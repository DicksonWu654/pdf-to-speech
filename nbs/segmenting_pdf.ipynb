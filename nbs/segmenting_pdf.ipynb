{
 "cells": [
  {
   "cell_type": "code",
   "execution_count": 1,
   "metadata": {},
   "outputs": [],
   "source": [
    "import PyPDF2\n"
   ]
  },
  {
   "cell_type": "code",
   "execution_count": 5,
   "metadata": {},
   "outputs": [],
   "source": [
    "file_path = \"pdfs/Moby_Dick.pdf\"\n",
    "\n",
    "page_start = 19\n",
    "page_end = 21+1\n",
    "\n",
    "with open(file_path, 'rb') as file:\n",
    "    reader = PyPDF2.PdfReader(file)\n",
    "    text = ''\n",
    "    for page in range(page_start, page_end):\n",
    "        text += reader.pages[page].extract_text()\n"
   ]
  },
  {
   "cell_type": "code",
   "execution_count": 8,
   "metadata": {},
   "outputs": [
    {
     "data": {
      "text/plain": [
       "'MOBY DICK .\\nCHAPTER I.\\nLOOMINGS .\\nCall meIshmael .Some years ago —never mind how long\\nprecisely —having little ornomoney inmy purse ,and noth\\ning particular tointerest me on shore ,Ithought Iwould\\nsai'"
      ]
     },
     "execution_count": 8,
     "metadata": {},
     "output_type": "execute_result"
    }
   ],
   "source": [
    "text[:200]"
   ]
  },
  {
   "cell_type": "code",
   "execution_count": 9,
   "metadata": {},
   "outputs": [],
   "source": [
    "text = text.replace(\"\\n\", \" \")"
   ]
  },
  {
   "cell_type": "code",
   "execution_count": 11,
   "metadata": {},
   "outputs": [
    {
     "data": {
      "text/plain": [
       "'MOBY DICK . CHAPTER I. LOOMINGS . Call meIshmael .Some years ago —never mind how long precisely —having little ornomoney inmy purse ,and noth ing particular tointerest me on shore ,Ithought Iwould sai'"
      ]
     },
     "execution_count": 11,
     "metadata": {},
     "output_type": "execute_result"
    }
   ],
   "source": [
    "text[:200]"
   ]
  },
  {
   "cell_type": "code",
   "execution_count": 14,
   "metadata": {},
   "outputs": [],
   "source": [
    "# Looks like there needs to be some cleaning up - depends on the pdf\n",
    "\n",
    "# Will stick with this janky text for now, leave that as a todo for later (some regex to clean up some simple stuff, maybe there are some simple NLP stuff to clean it up too (or use GPT3.5 lol))"
   ]
  },
  {
   "cell_type": "code",
   "execution_count": 20,
   "metadata": {},
   "outputs": [],
   "source": [
    "#create a function to iterate through each page:\n",
    "def get_text_from_pages(file_path, start_page, end_page):\n",
    "    page_texts = []\n",
    "\n",
    "    with open(file_path, 'rb') as file:\n",
    "        reader = PyPDF2.PdfReader(file)\n",
    "        for page in range(start_page, end_page):\n",
    "            text = reader.pages[page].extract_text()\n",
    "            text = text.replace(\"\\n\", \" \")\n",
    "            page_texts.append(text)\n",
    "    \n",
    "    return page_texts"
   ]
  },
  {
   "cell_type": "code",
   "execution_count": 21,
   "metadata": {},
   "outputs": [],
   "source": [
    "page_texts = get_text_from_pages(file_path, 19, 21)"
   ]
  },
  {
   "cell_type": "code",
   "execution_count": 23,
   "metadata": {},
   "outputs": [
    {
     "data": {
      "text/plain": [
       "(1647, 248)"
      ]
     },
     "execution_count": 23,
     "metadata": {},
     "output_type": "execute_result"
    }
   ],
   "source": [
    "len(page_texts[0]), page_texts[0].count(\" \")"
   ]
  },
  {
   "cell_type": "code",
   "execution_count": null,
   "metadata": {},
   "outputs": [],
   "source": []
  },
  {
   "cell_type": "code",
   "execution_count": null,
   "metadata": {},
   "outputs": [],
   "source": []
  }
 ],
 "metadata": {
  "kernelspec": {
   "display_name": "pdftospeech2",
   "language": "python",
   "name": "python3"
  },
  "language_info": {
   "codemirror_mode": {
    "name": "ipython",
    "version": 3
   },
   "file_extension": ".py",
   "mimetype": "text/x-python",
   "name": "python",
   "nbconvert_exporter": "python",
   "pygments_lexer": "ipython3",
   "version": "3.10.12"
  },
  "orig_nbformat": 4
 },
 "nbformat": 4,
 "nbformat_minor": 2
}
